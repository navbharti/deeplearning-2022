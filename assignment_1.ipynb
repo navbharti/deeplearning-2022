{
  "nbformat": 4,
  "nbformat_minor": 0,
  "metadata": {
    "colab": {
      "provenance": [],
      "authorship_tag": "ABX9TyNiUfqH6GUfKssTYR4iachz",
      "include_colab_link": true
    },
    "kernelspec": {
      "name": "python3",
      "display_name": "Python 3"
    },
    "language_info": {
      "name": "python"
    }
  },
  "cells": [
    {
      "cell_type": "markdown",
      "metadata": {
        "id": "view-in-github",
        "colab_type": "text"
      },
      "source": [
        "<a href=\"https://colab.research.google.com/github/navbharti/deeplearning-2022/blob/main/assignment_1.ipynb\" target=\"_parent\"><img src=\"https://colab.research.google.com/assets/colab-badge.svg\" alt=\"Open In Colab\"/></a>"
      ]
    },
    {
      "cell_type": "code",
      "execution_count": 1,
      "metadata": {
        "id": "EnlbrUIt4iD5"
      },
      "outputs": [],
      "source": [
        "import numpy as np\n",
        "from tensorflow.keras.models import Sequential\n",
        "from tensorflow.keras.layers import Conv2D, Activation, MaxPooling2D, Dense, Flatten\n",
        "from tensorflow.keras.preprocessing.image import ImageDataGenerator"
      ]
    },
    {
      "cell_type": "code",
      "source": [],
      "metadata": {
        "id": "lBjRnpaf4mmj"
      },
      "execution_count": null,
      "outputs": []
    },
    {
      "cell_type": "markdown",
      "source": [
        "# Load Dataset"
      ],
      "metadata": {
        "id": "_cuxIDf84wnB"
      }
    },
    {
      "cell_type": "code",
      "source": [
        "X_train = # Your Code here #\n",
        "Y_train = # Your Code here #\n",
        "\n",
        "X_test = # Your Code here #\n",
        "Y_test = # Your Code here #"
      ],
      "metadata": {
        "id": "SKh1jKpp4ycc"
      },
      "execution_count": null,
      "outputs": []
    },
    {
      "cell_type": "code",
      "source": [
        "print(\"Shape of X_train: \", X_train.shape)\n",
        "print(\"Shape of Y_train: \", Y_train.shape)\n",
        "print(\"Shape of X_test: \", X_test.shape)\n",
        "print(\"Shape of Y_test: \", Y_test.shape)"
      ],
      "metadata": {
        "id": "PFKvCyrL4y6d"
      },
      "execution_count": null,
      "outputs": []
    },
    {
      "cell_type": "markdown",
      "source": [
        "# Model Creationg"
      ],
      "metadata": {
        "id": "74i1jpGr45Cb"
      }
    },
    {
      "cell_type": "code",
      "source": [
        "model = Sequential([\n",
        "    # Your Code starts here #\n",
        "    \n",
        "    \n",
        "    \n",
        "    # Your Code ends here #\n",
        "])"
      ],
      "metadata": {
        "id": "mi3q99yw42D3"
      },
      "execution_count": 4,
      "outputs": []
    },
    {
      "cell_type": "code",
      "source": [
        "model.compile( ''' # Your Code here # ''' )"
      ],
      "metadata": {
        "id": "mhQrYUek46wt"
      },
      "execution_count": null,
      "outputs": []
    },
    {
      "cell_type": "code",
      "source": [
        "model.fit( ''' # Your Code here # ''' )"
      ],
      "metadata": {
        "id": "nxOxUW3f487-"
      },
      "execution_count": null,
      "outputs": []
    },
    {
      "cell_type": "markdown",
      "source": [
        "# Evaluate performance on Test Dataset"
      ],
      "metadata": {
        "id": "TwsdeV_15Eq7"
      }
    },
    {
      "cell_type": "code",
      "source": [
        "model.evaluate( ''' # Your Code here # ''' )"
      ],
      "metadata": {
        "id": "qP2Hcm_j4_MF"
      },
      "execution_count": null,
      "outputs": []
    },
    {
      "cell_type": "code",
      "source": [],
      "metadata": {
        "id": "9sRlBOwy5Bo7"
      },
      "execution_count": null,
      "outputs": []
    }
  ]
}